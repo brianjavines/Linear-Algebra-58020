{
  "nbformat": 4,
  "nbformat_minor": 0,
  "metadata": {
    "colab": {
      "name": "Midterm Exam.ipynb",
      "provenance": [],
      "authorship_tag": "ABX9TyMYL8OfNHQjUG9LkMXw9cE/",
      "include_colab_link": true
    },
    "kernelspec": {
      "name": "python3",
      "display_name": "Python 3"
    },
    "language_info": {
      "name": "python"
    }
  },
  "cells": [
    {
      "cell_type": "markdown",
      "metadata": {
        "id": "view-in-github",
        "colab_type": "text"
      },
      "source": [
        "<a href=\"https://colab.research.google.com/github/brianjavines/Linear-Algebra-58020/blob/main/Midterm_Exam.ipynb\" target=\"_parent\"><img src=\"https://colab.research.google.com/assets/colab-badge.svg\" alt=\"Open In Colab\"/></a>"
      ]
    },
    {
      "cell_type": "markdown",
      "metadata": {
        "id": "k9wwak3k87KH"
      },
      "source": [
        "**Question 1**"
      ]
    },
    {
      "cell_type": "code",
      "metadata": {
        "colab": {
          "base_uri": "https://localhost:8080/"
        },
        "id": "_onuuUnz6DXF",
        "outputId": "59aea606-277f-4b06-f119-bf1d4749b447"
      },
      "source": [
        "import numpy as np\n",
        "square_matrix = np.identity(5)\n",
        "print(f'Square Matrix whose length is 5: \\n{square_matrix}')"
      ],
      "execution_count": 11,
      "outputs": [
        {
          "output_type": "stream",
          "name": "stdout",
          "text": [
            "Square Matrix whose length is 5: \n",
            "[[1. 0. 0. 0. 0.]\n",
            " [0. 1. 0. 0. 0.]\n",
            " [0. 0. 1. 0. 0.]\n",
            " [0. 0. 0. 1. 0.]\n",
            " [0. 0. 0. 0. 1.]]\n"
          ]
        }
      ]
    },
    {
      "cell_type": "markdown",
      "metadata": {
        "id": "YoNSV8q-9CIN"
      },
      "source": [
        "**Question 2**"
      ]
    },
    {
      "cell_type": "code",
      "metadata": {
        "colab": {
          "base_uri": "https://localhost:8080/"
        },
        "id": "rK_6eF_t-mHM",
        "outputId": "670074aa-3e8d-4e01-83d6-afaa6c428ccb"
      },
      "source": [
        "upper_triangular_matrix = np.array([[1,2,3],\n",
        "                                    [0,3,1],\n",
        "                                    [0,0,5]])\n",
        "print(f'Square matrix whose elements below the principal diagonal are zero: \\n{upper_triangular_matrix}')"
      ],
      "execution_count": 12,
      "outputs": [
        {
          "output_type": "stream",
          "name": "stdout",
          "text": [
            "Square matrix whose elements below the principal diagonal are zero: \n",
            "[[1 2 3]\n",
            " [0 3 1]\n",
            " [0 0 5]]\n"
          ]
        }
      ]
    },
    {
      "cell_type": "markdown",
      "metadata": {
        "id": "qDKRuWGb-pI1"
      },
      "source": [
        "**Question 3**"
      ]
    },
    {
      "cell_type": "code",
      "metadata": {
        "colab": {
          "base_uri": "https://localhost:8080/"
        },
        "id": "gxfDklbR-sAs",
        "outputId": "577979ec-fac9-4708-97ff-4af471aeb650"
      },
      "source": [
        "square_matrix = np.array ([[1,2,3,4,5],\n",
        "                           [2,1,2,3,4],\n",
        "                           [3,2,1,2,3],\n",
        "                           [4,3,2,1,2],\n",
        "                           [5,4,3,2,1]])\n",
        "print('The square matrix which is symmetrical')\n",
        "print(square_matrix)"
      ],
      "execution_count": 26,
      "outputs": [
        {
          "output_type": "stream",
          "name": "stdout",
          "text": [
            "The square matrix which is symmetrical\n",
            "[[1 2 3 4 5]\n",
            " [2 1 2 3 4]\n",
            " [3 2 1 2 3]\n",
            " [4 3 2 1 2]\n",
            " [5 4 3 2 1]]\n"
          ]
        }
      ]
    },
    {
      "cell_type": "markdown",
      "metadata": {
        "id": "bJ-3E9uE-sOV"
      },
      "source": [
        "**Question 4**"
      ]
    },
    {
      "cell_type": "code",
      "metadata": {
        "colab": {
          "base_uri": "https://localhost:8080/"
        },
        "id": "voONsZ8H-sr1",
        "outputId": "59ad2705-1b6d-405a-e918-77d248ae1c7a"
      },
      "source": [
        "C = np.array ([[1,2,3],[2,3,3],[3,4,-2]])\n",
        "\n",
        "inverseC = np.linalg.inv(C) \n",
        "print(inverseC)"
      ],
      "execution_count": 23,
      "outputs": [
        {
          "output_type": "stream",
          "name": "stdout",
          "text": [
            "[[-3.6  3.2 -0.6]\n",
            " [ 2.6 -2.2  0.6]\n",
            " [-0.2  0.4 -0.2]]\n"
          ]
        }
      ]
    },
    {
      "cell_type": "markdown",
      "metadata": {
        "id": "KqJX_d5r-tGd"
      },
      "source": [
        "**Question 5**"
      ]
    },
    {
      "cell_type": "code",
      "metadata": {
        "colab": {
          "base_uri": "https://localhost:8080/"
        },
        "id": "W9Sonyvq-tZc",
        "outputId": "ba212429-c2f1-47b2-db86-cff20d255b7f"
      },
      "source": [
        "C = np.array ([[1,2,3],[2,3,3],[3,4,-2]])\n",
        "detC = np.linalg.det(C)\n",
        "\n",
        "print(\"Determinant of the given matrix in Question 4:\")\n",
        "print(int(detC))"
      ],
      "execution_count": 25,
      "outputs": [
        {
          "output_type": "stream",
          "name": "stdout",
          "text": [
            "Determinant of the given matrix in Question 4:\n",
            "5\n"
          ]
        }
      ]
    },
    {
      "cell_type": "markdown",
      "metadata": {
        "id": "H9-LtLo--zxs"
      },
      "source": [
        "**Question 6**"
      ]
    },
    {
      "cell_type": "code",
      "metadata": {
        "colab": {
          "base_uri": "https://localhost:8080/"
        },
        "id": "bhXptY1--2l9",
        "outputId": "8d12b776-da8b-46cf-f173-be0f34d435d4"
      },
      "source": [
        "Eq = np.array([[5,4,1],\n",
        "               [10,9,4],\n",
        "               [10,13,15]])\n",
        "Con = np.array([[[3.4],\n",
        "                 [8.8],\n",
        "                 [19.2]]])\n",
        "roots = np.linalg.inv(Eq) @Con\n",
        "print(roots)"
      ],
      "execution_count": 27,
      "outputs": [
        {
          "output_type": "stream",
          "name": "stdout",
          "text": [
            "[[[0.2]\n",
            "  [0.4]\n",
            "  [0.8]]]\n"
          ]
        }
      ]
    }
  ]
}
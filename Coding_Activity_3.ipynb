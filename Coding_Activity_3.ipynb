{
  "nbformat": 4,
  "nbformat_minor": 0,
  "metadata": {
    "colab": {
      "name": "Coding Activity 3.ipynb",
      "provenance": [],
      "authorship_tag": "ABX9TyOZu9RVw73IhSaa3wHP4ae7",
      "include_colab_link": true
    },
    "kernelspec": {
      "name": "python3",
      "display_name": "Python 3"
    },
    "language_info": {
      "name": "python"
    }
  },
  "cells": [
    {
      "cell_type": "markdown",
      "metadata": {
        "id": "view-in-github",
        "colab_type": "text"
      },
      "source": [
        "<a href=\"https://colab.research.google.com/github/brianjavines/Linear-Algebra-58020/blob/main/Coding_Activity_3.ipynb\" target=\"_parent\"><img src=\"https://colab.research.google.com/assets/colab-badge.svg\" alt=\"Open In Colab\"/></a>"
      ]
    },
    {
      "cell_type": "markdown",
      "metadata": {
        "id": "p0vFG_h-nQ9K"
      },
      "source": [
        "# **Coding Activity 3**"
      ]
    },
    {
      "cell_type": "markdown",
      "metadata": {
        "id": "G76MjVUoncI1"
      },
      "source": [
        "**3x3**"
      ]
    },
    {
      "cell_type": "code",
      "metadata": {
        "colab": {
          "base_uri": "https://localhost:8080/"
        },
        "id": "occtqMThm54a",
        "outputId": "a2cea2a7-be2b-491a-b4ea-80b1bd06ef85"
      },
      "source": [
        "import numpy as np\n",
        "A = np.array([[7,5,-6],[2,5,1],[-1,-2,3]])\n",
        "print ('The matrix:')\n",
        "print (A)\n",
        "\n",
        "print ('Inverse of the matrix:')\n",
        "print(np.linalg.inv([[7,5,-6],[2,5,1],[-1,-2,3]]))\n",
        "\n",
        "B = np.transpose(A)\n",
        "print ('Transpose of matrix:')\n",
        "print(B)"
      ],
      "execution_count": 8,
      "outputs": [
        {
          "output_type": "stream",
          "name": "stdout",
          "text": [
            "The matrix:\n",
            "[[ 7  5 -6]\n",
            " [ 2  5  1]\n",
            " [-1 -2  3]]\n",
            "Inverse of the matrix:\n",
            "[[ 0.21794872 -0.03846154  0.44871795]\n",
            " [-0.08974359  0.19230769 -0.24358974]\n",
            " [ 0.01282051  0.11538462  0.32051282]]\n",
            "Transpose of matrix:\n",
            "[[ 7  2 -1]\n",
            " [ 5  5 -2]\n",
            " [-6  1  3]]\n"
          ]
        }
      ]
    },
    {
      "cell_type": "markdown",
      "metadata": {
        "id": "8s-RXb23otHn"
      },
      "source": [
        "**4x4**"
      ]
    },
    {
      "cell_type": "code",
      "metadata": {
        "colab": {
          "base_uri": "https://localhost:8080/"
        },
        "id": "YjoxcRKzoxX2",
        "outputId": "59b12fa5-af41-4c91-ad46-2dd9e77cb18e"
      },
      "source": [
        "A = np.array([[7,-9,1,4],[2,4,-8,1],[1,5,2,-7],[5,-8,2,6]])\n",
        "print (A)"
      ],
      "execution_count": 11,
      "outputs": [
        {
          "output_type": "stream",
          "name": "stdout",
          "text": [
            "[[ 7 -9  1  4]\n",
            " [ 2  4 -8  1]\n",
            " [ 1  5  2 -7]\n",
            " [ 5 -8  2  6]]\n"
          ]
        }
      ]
    },
    {
      "cell_type": "code",
      "metadata": {
        "colab": {
          "base_uri": "https://localhost:8080/"
        },
        "id": "7g-TMg_ApDSD",
        "outputId": "7ecb3c64-d550-4e23-b42d-2d7241c9044b"
      },
      "source": [
        "A_inv = np.linalg.inv(A)\n",
        "\n",
        "print(\"Matrix: \\n\",A)\n",
        "print(\"Inverse: \\n\",A_inv)\n",
        "\n",
        "x = np.dot(A, A_inv)\n",
        "y = np.array(x, dtype=int) \n",
        "print(\"Check: \\n\",y)"
      ],
      "execution_count": 12,
      "outputs": [
        {
          "output_type": "stream",
          "name": "stdout",
          "text": [
            "Matrix: \n",
            " [[ 7 -9  1  4]\n",
            " [ 2  4 -8  1]\n",
            " [ 1  5  2 -7]\n",
            " [ 5 -8  2  6]]\n",
            "Inverse: \n",
            " [[-0.06718346  0.08957795  0.16709733  0.2248062 ]\n",
            " [-0.32041344  0.09388458  0.15590009  0.37984496]\n",
            " [-0.21447028 -0.04737295  0.12316968  0.29457364]\n",
            " [-0.2997416   0.06632214  0.02756245  0.3875969 ]]\n",
            "Check: \n",
            " [[1 0 0 0]\n",
            " [0 0 0 0]\n",
            " [0 0 0 0]\n",
            " [0 0 0 1]]\n"
          ]
        }
      ]
    },
    {
      "cell_type": "code",
      "metadata": {
        "colab": {
          "base_uri": "https://localhost:8080/"
        },
        "id": "1jLxV5VspXc6",
        "outputId": "14573e79-927f-4788-f41f-75f68d6c5799"
      },
      "source": [
        "\n",
        "A_trans = np.transpose(A)\n",
        "print(\"Matrix: \\n\",A)\n",
        "print(\"Transposed: \\n\",A_trans)"
      ],
      "execution_count": 13,
      "outputs": [
        {
          "output_type": "stream",
          "name": "stdout",
          "text": [
            "Matrix: \n",
            " [[ 7 -9  1  4]\n",
            " [ 2  4 -8  1]\n",
            " [ 1  5  2 -7]\n",
            " [ 5 -8  2  6]]\n",
            "Transposed: \n",
            " [[ 7  2  1  5]\n",
            " [-9  4  5 -8]\n",
            " [ 1 -8  2  2]\n",
            " [ 4  1 -7  6]]\n"
          ]
        }
      ]
    }
  ]
}
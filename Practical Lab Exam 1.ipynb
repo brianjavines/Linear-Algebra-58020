{
  "nbformat": 4,
  "nbformat_minor": 0,
  "metadata": {
    "colab": {
      "name": "Practical Lab Exam 1.ipynb",
      "provenance": [],
      "authorship_tag": "ABX9TyOr5dTU6WZ8kPTS4lnnmMFc",
      "include_colab_link": true
    },
    "kernelspec": {
      "name": "python3",
      "display_name": "Python 3"
    },
    "language_info": {
      "name": "python"
    }
  },
  "cells": [
    {
      "cell_type": "markdown",
      "metadata": {
        "id": "view-in-github",
        "colab_type": "text"
      },
      "source": [
        "<a href=\"https://colab.research.google.com/github/brianjavines/Linear-Algebra-58020/blob/main/Practical%20Lab%20Exam%201.ipynb\" target=\"_parent\"><img src=\"https://colab.research.google.com/assets/colab-badge.svg\" alt=\"Open In Colab\"/></a>"
      ]
    },
    {
      "cell_type": "markdown",
      "metadata": {
        "id": "ImUxlpSj_-lA"
      },
      "source": [
        "# **Practical Lab Exam 1**"
      ]
    },
    {
      "cell_type": "markdown",
      "metadata": {
        "id": "VdBfqdF9YqTi"
      },
      "source": [
        "**Problem 1**"
      ]
    },
    {
      "cell_type": "code",
      "metadata": {
        "id": "NdiZ5JgH_nl9"
      },
      "source": [
        "import numpy as np\n",
        "W = np.array([[1,-3],[2,-2],[3,1]])\n",
        "X = np.array([[3,2,1],[-1,2,3],[2,-1,1]])\n",
        "Y = np.array([[1,2,0],[0,-1,2]])\n",
        "Z = np.array([[0,1],[2,3]])\n",
        "\n",
        "WY = np.dot(W,Y)\n"
      ],
      "execution_count": 57,
      "outputs": []
    },
    {
      "cell_type": "code",
      "metadata": {
        "colab": {
          "base_uri": "https://localhost:8080/"
        },
        "id": "ZE2XauBJSpKw",
        "outputId": "f28e4a81-ffff-4628-80e4-54dd6baef856"
      },
      "source": [
        "#A\n",
        "print(WY)"
      ],
      "execution_count": 38,
      "outputs": [
        {
          "output_type": "stream",
          "name": "stdout",
          "text": [
            "[[ 1  5 -6]\n",
            " [ 2  6 -4]\n",
            " [ 3  5  2]]\n"
          ]
        }
      ]
    },
    {
      "cell_type": "code",
      "metadata": {
        "colab": {
          "base_uri": "https://localhost:8080/"
        },
        "id": "QPn_vHbLTaSk",
        "outputId": "01956ebd-3905-4a14-e333-fed3a3a8767f"
      },
      "source": [
        "#B\n",
        "print(Z+Z)"
      ],
      "execution_count": 39,
      "outputs": [
        {
          "output_type": "stream",
          "name": "stdout",
          "text": [
            "[[0 2]\n",
            " [4 6]]\n"
          ]
        }
      ]
    },
    {
      "cell_type": "code",
      "metadata": {
        "colab": {
          "base_uri": "https://localhost:8080/"
        },
        "id": "56DywT_3TgBv",
        "outputId": "96bb2559-77ba-46c5-b315-44d7cd1fe12d"
      },
      "source": [
        "#C\n",
        "print(3*X)"
      ],
      "execution_count": 40,
      "outputs": [
        {
          "output_type": "stream",
          "name": "stdout",
          "text": [
            "[[ 9  6  3]\n",
            " [-3  6  9]\n",
            " [ 6 -3  3]]\n"
          ]
        }
      ]
    },
    {
      "cell_type": "markdown",
      "metadata": {
        "id": "SkmQG4ZmYv19"
      },
      "source": [
        "**Problem 2**"
      ]
    },
    {
      "cell_type": "code",
      "metadata": {
        "colab": {
          "base_uri": "https://localhost:8080/"
        },
        "id": "g_EndGbfHvKu",
        "outputId": "205bc450-635c-464c-e107-472c2d108d51"
      },
      "source": [
        "#A\n",
        "A = np.dot(W,Y)\n",
        "B = 2*A\n",
        "print(B)\n"
      ],
      "execution_count": 58,
      "outputs": [
        {
          "output_type": "stream",
          "name": "stdout",
          "text": [
            "[[  2  10 -12]\n",
            " [  4  12  -8]\n",
            " [  6  10   4]]\n"
          ]
        }
      ]
    },
    {
      "cell_type": "code",
      "metadata": {
        "colab": {
          "base_uri": "https://localhost:8080/"
        },
        "id": "TMvKXeoEVH5q",
        "outputId": "7f2596b8-1549-4557-c343-7168492a966f"
      },
      "source": [
        "#B\n",
        "print(WY-X)"
      ],
      "execution_count": 44,
      "outputs": [
        {
          "output_type": "stream",
          "name": "stdout",
          "text": [
            "[[-2  3 -7]\n",
            " [ 3  4 -7]\n",
            " [ 1  6  1]]\n"
          ]
        }
      ]
    },
    {
      "cell_type": "code",
      "metadata": {
        "colab": {
          "base_uri": "https://localhost:8080/"
        },
        "id": "vyoweUVhVQ2T",
        "outputId": "4f44e93f-e361-4e0e-d45e-23f9fbebd1b2"
      },
      "source": [
        "#C\n",
        "Z1 = np.dot(Y,W)\n",
        "X2 = 2*Z\n",
        "Z1 = ([[5,-7],[4,4]])\n",
        "V3 = np.subtract(Z1,X2)\n",
        "print(V3)"
      ],
      "execution_count": 48,
      "outputs": [
        {
          "output_type": "stream",
          "name": "stdout",
          "text": [
            "[[ 5 -9]\n",
            " [ 0 -2]]\n"
          ]
        }
      ]
    },
    {
      "cell_type": "markdown",
      "metadata": {
        "id": "pUbXzesTYH08"
      },
      "source": [
        "The true statement is **Letter B**"
      ]
    }
  ]
}
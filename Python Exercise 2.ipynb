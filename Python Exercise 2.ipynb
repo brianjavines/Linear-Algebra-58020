{
  "nbformat": 4,
  "nbformat_minor": 0,
  "metadata": {
    "colab": {
      "name": "Vector Space Operations.ipynb",
      "provenance": [],
      "authorship_tag": "ABX9TyPpIYSoatzbx09Dr/Dbl0IG",
      "include_colab_link": true
    },
    "kernelspec": {
      "name": "python3",
      "display_name": "Python 3"
    },
    "language_info": {
      "name": "python"
    }
  },
  "cells": [
    {
      "cell_type": "markdown",
      "metadata": {
        "id": "view-in-github",
        "colab_type": "text"
      },
      "source": [
        "<a href=\"https://colab.research.google.com/github/brianjavines/Linear-Algebra-58020/blob/main/Python%20Exercise%202.ipynb\" target=\"_parent\"><img src=\"https://colab.research.google.com/assets/colab-badge.svg\" alt=\"Open In Colab\"/></a>"
      ]
    },
    {
      "cell_type": "markdown",
      "metadata": {
        "id": "nnjyAwLROL22"
      },
      "source": [
        "# **Vector Space Operations**"
      ]
    },
    {
      "cell_type": "code",
      "metadata": {
        "colab": {
          "base_uri": "https://localhost:8080/"
        },
        "id": "dwSgh7z6N-SV",
        "outputId": "9c259ef3-6434-4363-eda4-9b0368e5e7a4"
      },
      "source": [
        "import numpy as np\n",
        "A = np.array([6,4])\n",
        "B = np.array([3,-5])\n",
        "\n",
        "print('Vector A is', A)\n",
        "print(\"Vector B is\", B)"
      ],
      "execution_count": 2,
      "outputs": [
        {
          "output_type": "stream",
          "name": "stdout",
          "text": [
            "Vector A is [6 4]\n",
            "Vector B is [ 3 -5]\n"
          ]
        }
      ]
    },
    {
      "cell_type": "code",
      "metadata": {
        "colab": {
          "base_uri": "https://localhost:8080/"
        },
        "id": "kmRtWHjsSSJi",
        "outputId": "097c3aa9-eac6-4ebd-a237-042e153b9521"
      },
      "source": [
        "ball1 = np.array([1,2,3])\n",
        "ball2 = np.array([0,1,-1])\n",
        "\n",
        "pool = np.array([ball1,ball2])\n",
        "print(pool.shape)\n",
        "print(pool.size)\n"
      ],
      "execution_count": 3,
      "outputs": [
        {
          "output_type": "stream",
          "name": "stdout",
          "text": [
            "(2, 3)\n",
            "6\n"
          ]
        }
      ]
    },
    {
      "cell_type": "code",
      "metadata": {
        "colab": {
          "base_uri": "https://localhost:8080/"
        },
        "id": "Cf54u5mxS_Bv",
        "outputId": "bf29efe0-36d1-4f37-a910-cb9983fbaaa6"
      },
      "source": [
        "R = A+B\n",
        "print(R)"
      ],
      "execution_count": 4,
      "outputs": [
        {
          "output_type": "stream",
          "name": "stdout",
          "text": [
            "[ 9 -1]\n"
          ]
        }
      ]
    },
    {
      "cell_type": "code",
      "metadata": {
        "colab": {
          "base_uri": "https://localhost:8080/"
        },
        "id": "p-h99XQgTFmB",
        "outputId": "5735987c-f22c-4561-cc02-32d952ef2942"
      },
      "source": [
        "R = np.add(A,B)\n",
        "R"
      ],
      "execution_count": 6,
      "outputs": [
        {
          "output_type": "execute_result",
          "data": {
            "text/plain": [
              "array([ 9, -1])"
            ]
          },
          "metadata": {},
          "execution_count": 6
        }
      ]
    },
    {
      "cell_type": "code",
      "metadata": {
        "colab": {
          "base_uri": "https://localhost:8080/"
        },
        "id": "dpoyYswmTKH5",
        "outputId": "46cb58f8-4826-4e04-c67a-b2348555a926"
      },
      "source": [
        "R = np.subtract(A,B)\n",
        "R"
      ],
      "execution_count": 7,
      "outputs": [
        {
          "output_type": "execute_result",
          "data": {
            "text/plain": [
              "array([3, 9])"
            ]
          },
          "metadata": {},
          "execution_count": 7
        }
      ]
    },
    {
      "cell_type": "code",
      "metadata": {
        "colab": {
          "base_uri": "https://localhost:8080/"
        },
        "id": "YMGeThYYTOML",
        "outputId": "a881ff11-41f9-432c-df59-5ee64b1eb355"
      },
      "source": [
        "A = np.array([1,5,8,9])\n",
        "S = 5*A\n",
        "print(S)"
      ],
      "execution_count": 8,
      "outputs": [
        {
          "output_type": "stream",
          "name": "stdout",
          "text": [
            "[ 5 25 40 45]\n"
          ]
        }
      ]
    },
    {
      "cell_type": "code",
      "metadata": {
        "colab": {
          "base_uri": "https://localhost:8080/"
        },
        "id": "734MubveTQZL",
        "outputId": "c862a615-df81-4fc2-a60e-ae5173ce67ed"
      },
      "source": [
        "S = np.multiply(5,A)\n",
        "print(S)"
      ],
      "execution_count": 9,
      "outputs": [
        {
          "output_type": "stream",
          "name": "stdout",
          "text": [
            "[ 5 25 40 45]\n"
          ]
        }
      ]
    },
    {
      "cell_type": "code",
      "metadata": {
        "colab": {
          "base_uri": "https://localhost:8080/"
        },
        "id": "LRpF9PY7TsPp",
        "outputId": "04e3da57-ac80-45eb-825c-bead3e33b972"
      },
      "source": [
        "#initialize arayys\n",
        "A = np.array([6,9])\n",
        "B = np.array([3,7])\n",
        "\n",
        "#compute for the cross product\n",
        "output = np.cross(A,B)\n",
        "print(output)"
      ],
      "execution_count": 13,
      "outputs": [
        {
          "output_type": "stream",
          "name": "stdout",
          "text": [
            "15\n"
          ]
        }
      ]
    },
    {
      "cell_type": "code",
      "metadata": {
        "colab": {
          "base_uri": "https://localhost:8080/"
        },
        "id": "5qJIOblNT4u1",
        "outputId": "7294739f-54b9-44eb-bcdd-84ce48467fd8"
      },
      "source": [
        "output = np.dot(A,B) #compute the dot product of A and B\n",
        "print(output)"
      ],
      "execution_count": 14,
      "outputs": [
        {
          "output_type": "stream",
          "name": "stdout",
          "text": [
            "81\n"
          ]
        }
      ]
    }
  ]
}